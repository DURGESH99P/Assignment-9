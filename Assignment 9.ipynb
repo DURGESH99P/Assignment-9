{
 "cells": [
  {
   "cell_type": "markdown",
   "id": "1bb5e490",
   "metadata": {},
   "source": [
    "# Assignment 9"
   ]
  },
  {
   "cell_type": "markdown",
   "id": "b2514eb7",
   "metadata": {},
   "source": [
    "### 1. To what does a relative path refer?\n",
    "* Relative paths are relative to the current working directory."
   ]
  },
  {
   "cell_type": "markdown",
   "id": "ce9eb064",
   "metadata": {},
   "source": [
    "### 2. What does an absolute path start with your operating system?\n",
    "* Absolute paths start with the root folder, such as / or C:\\."
   ]
  },
  {
   "cell_type": "markdown",
   "id": "6d428783",
   "metadata": {},
   "source": [
    "### 3. What do the functions os.getcwd() and os.chdir() do?\n",
    "*  os.getcwd() returns the current directory.\n",
    "*  os.chdir() changes the current woking directory."
   ]
  },
  {
   "cell_type": "markdown",
   "id": "619250e1",
   "metadata": {},
   "source": [
    "### 4. What are the . and .. folders?\n",
    "* . is current folder\n",
    "* .. is parent folder"
   ]
  },
  {
   "cell_type": "markdown",
   "id": "84fb0068",
   "metadata": {},
   "source": [
    "### 5. In C:\\bacon\\eggs\\spam.txt, which part is the dir name, and which part is the base name?\n",
    "* C:\\bacon\\eggs is the directory name.\n",
    "* spam.txt is the base name."
   ]
  },
  {
   "cell_type": "markdown",
   "id": "d15af73c",
   "metadata": {},
   "source": [
    "### 6. What are the three “mode” arguments that can be passed to the open() function?\n",
    "* 'r' read\n",
    "* 'w' write\n",
    "* 'a' append"
   ]
  },
  {
   "cell_type": "markdown",
   "id": "68619859",
   "metadata": {},
   "source": [
    "### 7. What happens if an existing file is opened in write mode?\n",
    "* An existing file opened in write mode is erased and completely overwritten."
   ]
  },
  {
   "cell_type": "markdown",
   "id": "94002cf5",
   "metadata": {},
   "source": [
    "### 8. How do you tell the difference between read() and readlines()?\n",
    "*  read() method returns the file’s entire contents as a single string value.\n",
    "* readlines() method returns a list of strings, where each string is a line from the file’s contents(the lines are seperated bt \\n)."
   ]
  },
  {
   "cell_type": "markdown",
   "id": "27f60bf1",
   "metadata": {},
   "source": [
    "### 9. What data structure does a shelf value resemble?\n",
    "* A shelf value resembles a dictionary value; it has keys and values, along with keys() and values() methods that work similarly to the dictionary methods of the same names."
   ]
  }
 ],
 "metadata": {
  "kernelspec": {
   "display_name": "Python 3 (ipykernel)",
   "language": "python",
   "name": "python3"
  },
  "language_info": {
   "codemirror_mode": {
    "name": "ipython",
    "version": 3
   },
   "file_extension": ".py",
   "mimetype": "text/x-python",
   "name": "python",
   "nbconvert_exporter": "python",
   "pygments_lexer": "ipython3",
   "version": "3.8.10"
  }
 },
 "nbformat": 4,
 "nbformat_minor": 5
}
